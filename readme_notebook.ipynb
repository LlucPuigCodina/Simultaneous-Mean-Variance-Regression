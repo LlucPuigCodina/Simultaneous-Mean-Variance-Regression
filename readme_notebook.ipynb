{
 "cells": [
  {
   "cell_type": "markdown",
   "metadata": {},
   "source": [
    "# Simultaneous-Mean-Variance-Regression"
   ]
  },
  {
   "cell_type": "markdown",
   "metadata": {},
   "source": [
    "Python implementation of [arXiv:1804.01631](https://arxiv.org/abs/1804.01631) **[econ.EM]** by Lluc Puig Codina\n",
    "\n",
    "CAUTION: The optimization might converge to a wild value depending on the chosen initial value which might violate the non-linear constraint. To see this, set `gamma_0` = [1,0]  in the linear case. The linear case seems to be quite unstable, and requiring much more optimization time than the exponential case."
   ]
  },
  {
   "cell_type": "markdown",
   "metadata": {},
   "source": [
    "---"
   ]
  },
  {
   "cell_type": "markdown",
   "metadata": {},
   "source": [
    "### Simulation Tests"
   ]
  },
  {
   "cell_type": "code",
   "execution_count": 4,
   "metadata": {},
   "outputs": [],
   "source": [
    "import smvr\n",
    "import numpy as np"
   ]
  },
  {
   "cell_type": "code",
   "execution_count": 5,
   "metadata": {},
   "outputs": [
    {
     "name": "stdout",
     "output_type": "stream",
     "text": [
      "\n",
      "\n",
      "------------------------------------------------------\n",
      "Exponential case: Find beta_hat knowing the true gamma\n",
      "------------------------------------------------------\n",
      "True beta:  [10  3]\n",
      "OLS beta:  [10.58268607  2.98178095]\n",
      "SMVR beta:  [10.  3.]\n",
      "\n",
      "\n",
      "---------------------------------------------\n",
      "Exponential case: Find beta_hat and gamma_hat\n",
      "---------------------------------------------\n",
      "True beta:  [10  3]\n",
      "True gamma:  [ 3 -1]\n",
      "OLS beta:  [10.58268607  2.98178095]\n",
      "SMVR beta:  [10.  3.]\n",
      "SMVR gamma:  [ 2.74382346 -0.9053656 ]\n"
     ]
    }
   ],
   "source": [
    "# Exponential case\n",
    "np.random.seed(777)\n",
    "n = 300\n",
    "\n",
    "beta_true  = np.array([10, 3])\n",
    "gamma_true = np.array([3, -1]) \n",
    "\n",
    "X = np.array([np.ones(n),\n",
    "               np.random.uniform(0, 50, n)]).T # n by k matrix\n",
    "\n",
    "def S(t): return np.exp(t)\n",
    "\n",
    "Y = np.full(n, np.nan)\n",
    "for i in range(n):\n",
    "    Y[i] = np.random.normal(loc = X[i,:]@beta_true, scale = S(X[i]@gamma_true))\n",
    "\n",
    "## Test of beta function.\n",
    "## From the true gamma we can directly obtain the true beta parameters.\n",
    "print('\\n\\n------------------------------------------------------')\n",
    "print('Exponential case: Find beta_hat knowing the true gamma')\n",
    "print('------------------------------------------------------')\n",
    "print('True beta: ', beta_true)\n",
    "print('OLS beta: ', (np.linalg.inv(X.T@X)@(X.T)@Y))\n",
    "print('SMVR beta: ', smvr.beta(Y, X, S, gamma_true))\n",
    "\n",
    "\n",
    "## Test of fit function\n",
    "## Full estimation of both beta and gamma\n",
    "gamma0 = np.array([-1, 5]) #initial guess\n",
    "gamma_hat = smvr.fit(Y, X, S, gamma0)\n",
    "beta_hat = smvr.beta(Y, X, S, gamma_hat)\n",
    "print('\\n\\n---------------------------------------------')\n",
    "print('Exponential case: Find beta_hat and gamma_hat')\n",
    "print('---------------------------------------------')\n",
    "print('True beta: ', beta_true)\n",
    "print('True gamma: ', gamma_true) \n",
    "print('OLS beta: ', np.linalg.inv(X.T@X)@X.T@Y) \n",
    "print('SMVR beta: ', beta_hat)\n",
    "print('SMVR gamma: ', gamma_hat)"
   ]
  },
  {
   "cell_type": "code",
   "execution_count": 6,
   "metadata": {},
   "outputs": [
    {
     "name": "stdout",
     "output_type": "stream",
     "text": [
      "\n",
      "\n",
      "-------------------------------------------------\n",
      "Linear case: Find beta_hat knowing the true gamma\n",
      "-------------------------------------------------\n",
      "True beta:  [2.  0.5]\n",
      "OLS beta:  [1.90964476 0.55846447]\n",
      "SMVR beta:  [1.91575771 0.55455647]\n",
      "\n",
      "\n",
      "----------------------------------------\n",
      "Linear Case: Find beta_hat and gamma_hat\n",
      "----------------------------------------\n",
      "True beta:  [2.  0.5]\n",
      "True gamma:  [0.5 0.2]\n",
      "OLS beta:  [1.90964476 0.55846447]\n",
      "SMVR beta:  [1.9159158  0.55445541]\n",
      "SMVR gamma:  [0.50984555 0.20833171]\n"
     ]
    }
   ],
   "source": [
    "# Linear case\n",
    "beta_true  = np.array([2, 0.5])\n",
    "gamma_true = np.array([0.5 , 0.2]) \n",
    "\n",
    "X = np.array([np.ones(n),\n",
    "               np.random.uniform(-1, 4, n)]).T\n",
    "\n",
    "def S(t): return t\n",
    "\n",
    "Y = np.full(n, np.nan)\n",
    "for i in range(n):\n",
    "    Y[i] = np.random.normal(loc = X[i,:]@beta_true, scale = S(X[i]@gamma_true))\n",
    "\n",
    "## Test of beta function.\n",
    "## From the true gamma we can directly obtain the true beta parameters.\n",
    "print('\\n\\n-------------------------------------------------')\n",
    "print('Linear case: Find beta_hat knowing the true gamma')\n",
    "print('-------------------------------------------------')\n",
    "print('True beta: ', beta_true)\n",
    "print('OLS beta: ', (np.linalg.inv(X.T@X)@(X.T)@Y))\n",
    "print('SMVR beta: ', smvr.beta(Y, X, S, gamma_true))\n",
    "\n",
    "## Test of fit function\n",
    "## Full estimation of both beta and gamma\n",
    "gamma0 = np.array([1,1]) #initial guess\n",
    "gamma_hat = smvr.fit(Y, X, S, gamma0)\n",
    "beta_hat = smvr.beta(Y, X, S, gamma_hat)\n",
    "print('\\n\\n----------------------------------------')\n",
    "print('Linear Case: Find beta_hat and gamma_hat')\n",
    "print('----------------------------------------')\n",
    "print('True beta: ', beta_true)\n",
    "print('True gamma: ', gamma_true) \n",
    "print('OLS beta: ', np.linalg.inv(X.T@X)@X.T@Y) \n",
    "print('SMVR beta: ', beta_hat)\n",
    "print('SMVR gamma: ', gamma_hat)"
   ]
  }
 ],
 "metadata": {
  "kernelspec": {
   "display_name": "Python 3",
   "language": "python",
   "name": "python3"
  },
  "language_info": {
   "codemirror_mode": {
    "name": "ipython",
    "version": 3
   },
   "file_extension": ".py",
   "mimetype": "text/x-python",
   "name": "python",
   "nbconvert_exporter": "python",
   "pygments_lexer": "ipython3",
   "version": "3.7.3"
  }
 },
 "nbformat": 4,
 "nbformat_minor": 2
}
